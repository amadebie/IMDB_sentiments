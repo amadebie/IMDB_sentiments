{
 "cells": [
  {
   "cell_type": "code",
   "execution_count": 1,
   "id": "be9b389c",
   "metadata": {},
   "outputs": [],
   "source": [
    "#importing packages and libraries.\n",
    "import nltk\n",
    "import random\n",
    "import collections\n",
    "from nltk.corpus import movie_reviews\n",
    "from nltk.corpus import stopwords\n",
    "from nltk import classify\n",
    "from nltk.metrics import *\n",
    "from sklearn.linear_model import LogisticRegression,SGDClassifier\n",
    "from sklearn.metrics import classification_report,confusion_matrix,accuracy_score\n"
   ]
  },
  {
   "cell_type": "code",
   "execution_count": 2,
   "id": "8d3be873",
   "metadata": {},
   "outputs": [
    {
     "name": "stdout",
     "output_type": "stream",
     "text": [
      "(50000, 2)\n"
     ]
    },
    {
     "data": {
      "text/html": [
       "<div>\n",
       "<style scoped>\n",
       "    .dataframe tbody tr th:only-of-type {\n",
       "        vertical-align: middle;\n",
       "    }\n",
       "\n",
       "    .dataframe tbody tr th {\n",
       "        vertical-align: top;\n",
       "    }\n",
       "\n",
       "    .dataframe thead th {\n",
       "        text-align: right;\n",
       "    }\n",
       "</style>\n",
       "<table border=\"1\" class=\"dataframe\">\n",
       "  <thead>\n",
       "    <tr style=\"text-align: right;\">\n",
       "      <th></th>\n",
       "      <th>review</th>\n",
       "      <th>sentiment</th>\n",
       "    </tr>\n",
       "  </thead>\n",
       "  <tbody>\n",
       "    <tr>\n",
       "      <th>0</th>\n",
       "      <td>One of the other reviewers has mentioned that ...</td>\n",
       "      <td>positive</td>\n",
       "    </tr>\n",
       "    <tr>\n",
       "      <th>1</th>\n",
       "      <td>A wonderful little production. &lt;br /&gt;&lt;br /&gt;The...</td>\n",
       "      <td>positive</td>\n",
       "    </tr>\n",
       "    <tr>\n",
       "      <th>2</th>\n",
       "      <td>I thought this was a wonderful way to spend ti...</td>\n",
       "      <td>positive</td>\n",
       "    </tr>\n",
       "    <tr>\n",
       "      <th>3</th>\n",
       "      <td>Basically there's a family where a little boy ...</td>\n",
       "      <td>negative</td>\n",
       "    </tr>\n",
       "    <tr>\n",
       "      <th>4</th>\n",
       "      <td>Petter Mattei's \"Love in the Time of Money\" is...</td>\n",
       "      <td>positive</td>\n",
       "    </tr>\n",
       "    <tr>\n",
       "      <th>5</th>\n",
       "      <td>Probably my all-time favorite movie, a story o...</td>\n",
       "      <td>positive</td>\n",
       "    </tr>\n",
       "    <tr>\n",
       "      <th>6</th>\n",
       "      <td>I sure would like to see a resurrection of a u...</td>\n",
       "      <td>positive</td>\n",
       "    </tr>\n",
       "    <tr>\n",
       "      <th>7</th>\n",
       "      <td>This show was an amazing, fresh &amp; innovative i...</td>\n",
       "      <td>negative</td>\n",
       "    </tr>\n",
       "    <tr>\n",
       "      <th>8</th>\n",
       "      <td>Encouraged by the positive comments about this...</td>\n",
       "      <td>negative</td>\n",
       "    </tr>\n",
       "    <tr>\n",
       "      <th>9</th>\n",
       "      <td>If you like original gut wrenching laughter yo...</td>\n",
       "      <td>positive</td>\n",
       "    </tr>\n",
       "    <tr>\n",
       "      <th>10</th>\n",
       "      <td>Phil the Alien is one of those quirky films wh...</td>\n",
       "      <td>negative</td>\n",
       "    </tr>\n",
       "    <tr>\n",
       "      <th>11</th>\n",
       "      <td>I saw this movie when I was about 12 when it c...</td>\n",
       "      <td>negative</td>\n",
       "    </tr>\n",
       "    <tr>\n",
       "      <th>12</th>\n",
       "      <td>So im not a big fan of Boll's work but then ag...</td>\n",
       "      <td>negative</td>\n",
       "    </tr>\n",
       "    <tr>\n",
       "      <th>13</th>\n",
       "      <td>The cast played Shakespeare.&lt;br /&gt;&lt;br /&gt;Shakes...</td>\n",
       "      <td>negative</td>\n",
       "    </tr>\n",
       "    <tr>\n",
       "      <th>14</th>\n",
       "      <td>This a fantastic movie of three prisoners who ...</td>\n",
       "      <td>positive</td>\n",
       "    </tr>\n",
       "    <tr>\n",
       "      <th>15</th>\n",
       "      <td>Kind of drawn in by the erotic scenes, only to...</td>\n",
       "      <td>negative</td>\n",
       "    </tr>\n",
       "    <tr>\n",
       "      <th>16</th>\n",
       "      <td>Some films just simply should not be remade. T...</td>\n",
       "      <td>positive</td>\n",
       "    </tr>\n",
       "    <tr>\n",
       "      <th>17</th>\n",
       "      <td>This movie made it into one of my top 10 most ...</td>\n",
       "      <td>negative</td>\n",
       "    </tr>\n",
       "    <tr>\n",
       "      <th>18</th>\n",
       "      <td>I remember this film,it was the first film i h...</td>\n",
       "      <td>positive</td>\n",
       "    </tr>\n",
       "    <tr>\n",
       "      <th>19</th>\n",
       "      <td>An awful film! It must have been up against so...</td>\n",
       "      <td>negative</td>\n",
       "    </tr>\n",
       "  </tbody>\n",
       "</table>\n",
       "</div>"
      ],
      "text/plain": [
       "                                               review sentiment\n",
       "0   One of the other reviewers has mentioned that ...  positive\n",
       "1   A wonderful little production. <br /><br />The...  positive\n",
       "2   I thought this was a wonderful way to spend ti...  positive\n",
       "3   Basically there's a family where a little boy ...  negative\n",
       "4   Petter Mattei's \"Love in the Time of Money\" is...  positive\n",
       "5   Probably my all-time favorite movie, a story o...  positive\n",
       "6   I sure would like to see a resurrection of a u...  positive\n",
       "7   This show was an amazing, fresh & innovative i...  negative\n",
       "8   Encouraged by the positive comments about this...  negative\n",
       "9   If you like original gut wrenching laughter yo...  positive\n",
       "10  Phil the Alien is one of those quirky films wh...  negative\n",
       "11  I saw this movie when I was about 12 when it c...  negative\n",
       "12  So im not a big fan of Boll's work but then ag...  negative\n",
       "13  The cast played Shakespeare.<br /><br />Shakes...  negative\n",
       "14  This a fantastic movie of three prisoners who ...  positive\n",
       "15  Kind of drawn in by the erotic scenes, only to...  negative\n",
       "16  Some films just simply should not be remade. T...  positive\n",
       "17  This movie made it into one of my top 10 most ...  negative\n",
       "18  I remember this film,it was the first film i h...  positive\n",
       "19  An awful film! It must have been up against so...  negative"
      ]
     },
     "execution_count": 2,
     "metadata": {},
     "output_type": "execute_result"
    }
   ],
   "source": [
    "#importing and reading the data into a virtual spreadsheet.\n",
    "#This code prints out a virtual spreadsheet showing the first 20 \n",
    "#elements in the IMDB dataset.\n",
    "\n",
    "import pandas as pd\n",
    "imdb_data = pd.read_csv('IMDBDataset.csv')\n",
    "print(imdb_data.shape)\n",
    "imdb_data.head(20)\n",
    "\n"
   ]
  },
  {
   "cell_type": "code",
   "execution_count": 3,
   "id": "0077d10b",
   "metadata": {},
   "outputs": [
    {
     "data": {
      "text/html": [
       "<div>\n",
       "<style scoped>\n",
       "    .dataframe tbody tr th:only-of-type {\n",
       "        vertical-align: middle;\n",
       "    }\n",
       "\n",
       "    .dataframe tbody tr th {\n",
       "        vertical-align: top;\n",
       "    }\n",
       "\n",
       "    .dataframe thead th {\n",
       "        text-align: right;\n",
       "    }\n",
       "</style>\n",
       "<table border=\"1\" class=\"dataframe\">\n",
       "  <thead>\n",
       "    <tr style=\"text-align: right;\">\n",
       "      <th></th>\n",
       "      <th>review</th>\n",
       "      <th>sentiment</th>\n",
       "    </tr>\n",
       "  </thead>\n",
       "  <tbody>\n",
       "    <tr>\n",
       "      <th>count</th>\n",
       "      <td>50000</td>\n",
       "      <td>50000</td>\n",
       "    </tr>\n",
       "    <tr>\n",
       "      <th>unique</th>\n",
       "      <td>49582</td>\n",
       "      <td>2</td>\n",
       "    </tr>\n",
       "    <tr>\n",
       "      <th>top</th>\n",
       "      <td>Loved today's show!!! It was a variety and not...</td>\n",
       "      <td>negative</td>\n",
       "    </tr>\n",
       "    <tr>\n",
       "      <th>freq</th>\n",
       "      <td>5</td>\n",
       "      <td>25000</td>\n",
       "    </tr>\n",
       "  </tbody>\n",
       "</table>\n",
       "</div>"
      ],
      "text/plain": [
       "                                                   review sentiment\n",
       "count                                               50000     50000\n",
       "unique                                              49582         2\n",
       "top     Loved today's show!!! It was a variety and not...  negative\n",
       "freq                                                    5     25000"
      ]
     },
     "execution_count": 3,
     "metadata": {},
     "output_type": "execute_result"
    }
   ],
   "source": [
    "imdb_data.describe()"
   ]
  },
  {
   "cell_type": "code",
   "execution_count": 4,
   "id": "5426b5d9",
   "metadata": {},
   "outputs": [
    {
     "data": {
      "text/plain": [
       "negative    25000\n",
       "positive    25000\n",
       "Name: sentiment, dtype: int64"
      ]
     },
     "execution_count": 4,
     "metadata": {},
     "output_type": "execute_result"
    }
   ],
   "source": [
    "imdb_data['sentiment'].value_counts()"
   ]
  },
  {
   "cell_type": "code",
   "execution_count": 5,
   "id": "d9d307e9",
   "metadata": {},
   "outputs": [
    {
     "name": "stdout",
     "output_type": "stream",
     "text": [
      "(40000,)\n",
      "(10000,)\n"
     ]
    }
   ],
   "source": [
    "#Incorporating instances into training and testing set.\n",
    "\n",
    "#training for both review and sentiment\n",
    "training_review = imdb_data.review[:40000]    #x_train\n",
    "training_sents = imdb_data.sentiment[:40000]  #y_train\n",
    "\n",
    "testing_review = imdb_data.review[40000:]     #x_test\n",
    "testing_sents = imdb_data.sentiment[40000:]   #y_test\n",
    "\n",
    "print(training_review.shape)\n",
    "print(testing_sents.shape)"
   ]
  },
  {
   "cell_type": "code",
   "execution_count": 7,
   "id": "aac735f2",
   "metadata": {},
   "outputs": [
    {
     "name": "stderr",
     "output_type": "stream",
     "text": [
      "[nltk_data] Downloading package movie_reviews to\n",
      "[nltk_data]     /Users/amad/nltk_data...\n",
      "[nltk_data]   Package movie_reviews is already up-to-date!\n"
     ]
    },
    {
     "data": {
      "text/plain": [
       "True"
      ]
     },
     "execution_count": 7,
     "metadata": {},
     "output_type": "execute_result"
    }
   ],
   "source": [
    "#Downloading 'movie_reviews' from the nltk collection\n",
    "import nltk\n",
    "nltk.download('movie_reviews')"
   ]
  },
  {
   "cell_type": "code",
   "execution_count": 8,
   "id": "445c0a02",
   "metadata": {},
   "outputs": [
    {
     "name": "stderr",
     "output_type": "stream",
     "text": [
      "[nltk_data] Downloading package stopwords to /Users/amad/nltk_data...\n",
      "[nltk_data]   Package stopwords is already up-to-date!\n"
     ]
    },
    {
     "data": {
      "text/plain": [
       "True"
      ]
     },
     "execution_count": 8,
     "metadata": {},
     "output_type": "execute_result"
    }
   ],
   "source": [
    "#Downloading 'stopwords' from the nltk collection\n",
    "import nltk\n",
    "nltk.download('stopwords')"
   ]
  },
  {
   "cell_type": "code",
   "execution_count": 9,
   "id": "de39999d",
   "metadata": {},
   "outputs": [
    {
     "name": "stdout",
     "output_type": "stream",
     "text": [
      "['0', 'One', 'of', 'the', 'other', 'reviewers', 'has', 'mentioned', 'that', '...', '1', 'A', 'wonderful', 'little', 'production.', '<br', '/><br', '/>The...', '2', 'I', 'thought', 'this', 'was', 'a', 'wonderful', 'way', 'to', 'spend', 'ti...', '3', 'Basically', \"there's\", 'a', 'family', 'where', 'a', 'little', 'boy', '...', '4', 'Petter', \"Mattei's\", '\"Love', 'in', 'the', 'Time', 'of', 'Money\"', 'is...', '...', '49995', 'I', 'thought', 'this', 'movie', 'did', 'a', 'down', 'right', 'good', 'job...', '49996', 'Bad', 'plot,', 'bad', 'dialogue,', 'bad', 'acting,', 'idiotic', 'di...', '49997', 'I', 'am', 'a', 'Catholic', 'taught', 'in', 'parochial', 'elementary...', '49998', \"I'm\", 'going', 'to', 'have', 'to', 'disagree', 'with', 'the', 'previou...', '49999', 'No', 'one', 'expects', 'the', 'Star', 'Trek', 'movies', 'to', 'be', 'high...', 'Name:', 'review,', 'Length:', '50000,', 'dtype:', 'object']\n"
     ]
    }
   ],
   "source": [
    "#In the code below, data from 'review' is assigned to 'review_str'\n",
    "#which splits the data in 'review' into a string.\n",
    "review_str = str(imdb_data.review)\n",
    "review_strSplit = review_str.split()\n",
    "print(review_strSplit)"
   ]
  },
  {
   "cell_type": "code",
   "execution_count": 10,
   "id": "50705d89",
   "metadata": {},
   "outputs": [
    {
     "name": "stdout",
     "output_type": "stream",
     "text": [
      "['i', 'me', 'my', 'myself', 'we', 'our', 'ours', 'ourselves', 'you', \"you're\", \"you've\", \"you'll\", \"you'd\", 'your', 'yours', 'yourself', 'yourselves', 'he', 'him', 'his', 'himself', 'she', \"she's\", 'her', 'hers', 'herself', 'it', \"it's\", 'its', 'itself', 'they', 'them', 'their', 'theirs', 'themselves', 'what', 'which', 'who', 'whom', 'this', 'that', \"that'll\", 'these', 'those', 'am', 'is', 'are', 'was', 'were', 'be', 'been', 'being', 'have', 'has', 'had', 'having', 'do', 'does', 'did', 'doing', 'a', 'an', 'the', 'and', 'but', 'if', 'or', 'because', 'as', 'until', 'while', 'of', 'at', 'by', 'for', 'with', 'about', 'against', 'between', 'into', 'through', 'during', 'before', 'after', 'above', 'below', 'to', 'from', 'up', 'down', 'in', 'out', 'on', 'off', 'over', 'under', 'again', 'further', 'then', 'once', 'here', 'there', 'when', 'where', 'why', 'how', 'all', 'any', 'both', 'each', 'few', 'more', 'most', 'other', 'some', 'such', 'no', 'nor', 'not', 'only', 'own', 'same', 'so', 'than', 'too', 'very', 's', 't', 'can', 'will', 'just', 'don', \"don't\", 'should', \"should've\", 'now', 'd', 'll', 'm', 'o', 're', 've', 'y', 'ain', 'aren', \"aren't\", 'couldn', \"couldn't\", 'didn', \"didn't\", 'doesn', \"doesn't\", 'hadn', \"hadn't\", 'hasn', \"hasn't\", 'haven', \"haven't\", 'isn', \"isn't\", 'ma', 'mightn', \"mightn't\", 'mustn', \"mustn't\", 'needn', \"needn't\", 'shan', \"shan't\", 'shouldn', \"shouldn't\", 'wasn', \"wasn't\", 'weren', \"weren't\", 'won', \"won't\", 'wouldn', \"wouldn't\"]\n"
     ]
    }
   ],
   "source": [
    "#Printing Stopwords\n",
    "stopwords_english = stopwords.words('english')\n",
    "print(stopwords_english)"
   ]
  },
  {
   "cell_type": "markdown",
   "id": "3d069c78",
   "metadata": {},
   "source": [
    "In the code below, text pre-processing is performed on the IMDB dataset. Where i started by creating lists in an array \"for_duplicate(for duplicate words in the dataset), delete_list(for alphanumeric values and html tags), movie_review(a list which prints after text preprocessing has been implied on the imdb dataset, this prints in a tokenized form.)\"."
   ]
  },
  {
   "cell_type": "code",
   "execution_count": 11,
   "id": "e949a660",
   "metadata": {},
   "outputs": [
    {
     "name": "stdout",
     "output_type": "stream",
     "text": [
      "['one', 'reviewers', 'mentioned', 'a', 'wonderful', 'little', 'i', 'thought', 'way', 'spend', 'basically', 'family', 'boy', 'petter', 'time', 'movie', 'right', 'good', 'bad', 'idiotic', 'catholic', 'taught', 'parochial', 'going', 'disagree', 'no', 'expects', 'star', 'trek', 'movies', 'object']\n"
     ]
    }
   ],
   "source": [
    "for_duplicate = []\n",
    "delete_list = []\n",
    "movie_review = []\n",
    "\n",
    "\n",
    "\n",
    "for x in review_strSplit:\n",
    "    if x.isnumeric() is True:\n",
    "        delete_list.append(x)\n",
    "    elif x.isalpha() is False:\n",
    "        delete_list.append(x)\n",
    "    elif x in stopwords_english:\n",
    "        delete_list.append(x)\n",
    "    elif x not in stopwords_english:\n",
    "        for_duplicate.append(x.lower())\n",
    "        \n",
    "        \n",
    "for y in for_dups:\n",
    "    if y not in movie_review:\n",
    "        movie_review.append(y)\n",
    "\n",
    "print(movie_review)"
   ]
  },
  {
   "cell_type": "code",
   "execution_count": 12,
   "id": "2ae60fcb",
   "metadata": {},
   "outputs": [],
   "source": [
    "#preparing the training set where data is divided into 70%, 30%.\n",
    "from sklearn.model_selection import train_test_split\n",
    "training_review,testing_review,training_sents,testing_sents = train_test_split(imdb_data['review'], imdb_data['sentiment'],test_size =0.3)\n"
   ]
  },
  {
   "cell_type": "code",
   "execution_count": 13,
   "id": "581d1f09",
   "metadata": {},
   "outputs": [],
   "source": [
    "#encoding to transform data type of string into a numerical value\n",
    "from sklearn.preprocessing import LabelEncoder\n",
    "imdb_encode = LabelEncoder()\n",
    "training_sents = imdb_encode.fit_transform(training_sents)\n",
    "testing_sents = imdb_encode.fit_transform(testing_sents)"
   ]
  },
  {
   "cell_type": "code",
   "execution_count": 14,
   "id": "7d7b839a",
   "metadata": {},
   "outputs": [
    {
     "name": "stdout",
     "output_type": "stream",
     "text": [
      "{'one': 32, 'of': 30, 'the': 38, 'has': 16, 'that': 37, 'just': 25, 'you': 49, 'be': 7, 'they': 40, 'are': 4, 'as': 5, 'this': 41, 'is': 23, 'what': 45, 'with': 48, 'br': 8, 'about': 0, 'was': 44, 'and': 3, 'in': 22, 'from': 14, 'not': 29, 'for': 13, 'or': 33, 'to': 42, 'it': 24, 'on': 31, 'an': 2, 'all': 1, 'have': 17, 'so': 35, 'more': 27, 'but': 9, 'who': 47, 'out': 34, 'if': 21, 'can': 11, 'very': 43, 'he': 18, 'by': 10, 'his': 20, 'some': 36, 'when': 46, 'at': 6, 'her': 19, 'there': 39, 'movie': 28, 'film': 12, 'like': 26, 'good': 15}\n"
     ]
    }
   ],
   "source": [
    "#converting a collection of text documents into numerical vectors\n",
    "from sklearn.feature_extraction.text import TfidfVectorizer\n",
    "F_vector = TfidfVectorizer(max_features = 50)\n",
    "F_vector.fit(imdb_data['review'])\n",
    "\n",
    "training_review_vector = F_vector.transform(training_review)\n",
    "testing_review_vector = F_vector.transform(testing_review)\n",
    "\n",
    "print(F_vector.vocabulary_)\n"
   ]
  },
  {
   "cell_type": "code",
   "execution_count": 19,
   "id": "30629ae1",
   "metadata": {},
   "outputs": [
    {
     "name": "stdout",
     "output_type": "stream",
     "text": [
      "accuracy score of logistic regression =  65.9\n"
     ]
    }
   ],
   "source": [
    "from sklearn.linear_model import LogisticRegression\n",
    "from sklearn.metrics import classification_report\n",
    "\n",
    "lr = LogisticRegression()\n",
    "lr.fit(training_review_vector,training_sents)\n",
    "\n",
    "prediction = lr.predict(testing_review_vector)\n",
    "\n",
    "#accuracy\n",
    "print(\"accuracy score of logistic regression = \", accuracy_score(prediction,testing_sents)*100)\n"
   ]
  },
  {
   "cell_type": "code",
   "execution_count": 17,
   "id": "71008232",
   "metadata": {},
   "outputs": [
    {
     "name": "stdout",
     "output_type": "stream",
     "text": [
      "              precision    recall  f1-score   support\n",
      "\n",
      "           0       0.66      0.66      0.66      7502\n",
      "           1       0.66      0.67      0.66      7498\n",
      "\n",
      "    accuracy                           0.66     15000\n",
      "   macro avg       0.66      0.66      0.66     15000\n",
      "weighted avg       0.66      0.66      0.66     15000\n",
      "\n",
      "0.6604666666666666\n"
     ]
    }
   ],
   "source": [
    "from sklearn.metrics import classification_report\n",
    "print(classification_report(testing_sents,prediction))\n",
    "print(accuracy_score(testing_sents,prediction))"
   ]
  },
  {
   "cell_type": "code",
   "execution_count": 16,
   "id": "7515e137",
   "metadata": {},
   "outputs": [
    {
     "name": "stdout",
     "output_type": "stream",
     "text": [
      "accuracy score of svm =  66.04666666666667\n"
     ]
    }
   ],
   "source": [
    "#building classifier with Support Vector Machine SVM\n",
    "from sklearn import model_selection, svm\n",
    "from sklearn.metrics import classification_report\n",
    "svm = svm.SVC(kernel = 'linear')\n",
    "svm.fit(training_review_vector,training_sents)\n",
    "\n",
    "prediction = svm.predict(testing_review_vector) #predicting labels on validation dataset\n",
    "\n",
    "#accuracy\n",
    "print(\"accuracy score of svm = \", accuracy_score(prediction,testing_sents)*100)"
   ]
  },
  {
   "cell_type": "code",
   "execution_count": 18,
   "id": "89cb15ec",
   "metadata": {},
   "outputs": [
    {
     "name": "stdout",
     "output_type": "stream",
     "text": [
      "              precision    recall  f1-score   support\n",
      "\n",
      "           0       0.66      0.66      0.66      7502\n",
      "           1       0.66      0.67      0.66      7498\n",
      "\n",
      "    accuracy                           0.66     15000\n",
      "   macro avg       0.66      0.66      0.66     15000\n",
      "weighted avg       0.66      0.66      0.66     15000\n",
      "\n",
      "0.6604666666666666\n"
     ]
    }
   ],
   "source": [
    "from sklearn.metrics import classification_report\n",
    "print(classification_report(testing_sents,prediction))\n",
    "print(accuracy_score(testing_sents,prediction))"
   ]
  },
  {
   "cell_type": "code",
   "execution_count": null,
   "id": "18adc162",
   "metadata": {},
   "outputs": [],
   "source": []
  }
 ],
 "metadata": {
  "kernelspec": {
   "display_name": "Python 3",
   "language": "python",
   "name": "python3"
  },
  "language_info": {
   "codemirror_mode": {
    "name": "ipython",
    "version": 3
   },
   "file_extension": ".py",
   "mimetype": "text/x-python",
   "name": "python",
   "nbconvert_exporter": "python",
   "pygments_lexer": "ipython3",
   "version": "3.8.8"
  }
 },
 "nbformat": 4,
 "nbformat_minor": 5
}
